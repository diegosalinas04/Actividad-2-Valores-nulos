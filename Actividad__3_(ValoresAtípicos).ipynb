{
  "nbformat": 4,
  "nbformat_minor": 0,
  "metadata": {
    "colab": {
      "provenance": [],
      "authorship_tag": "ABX9TyPmJUuKQKEV7PDqWrsmsImO",
      "include_colab_link": true
    },
    "kernelspec": {
      "name": "python3",
      "display_name": "Python 3"
    },
    "language_info": {
      "name": "python"
    }
  },
  "cells": [
    {
      "cell_type": "markdown",
      "metadata": {
        "id": "view-in-github",
        "colab_type": "text"
      },
      "source": [
        "<a href=\"https://colab.research.google.com/github/diegosalinas04/Actividad-2-Valores-nulos/blob/main/Actividad__3_(ValoresAt%C3%ADpicos).ipynb\" target=\"_parent\"><img src=\"https://colab.research.google.com/assets/colab-badge.svg\" alt=\"Open In Colab\"/></a>"
      ]
    },
    {
      "cell_type": "code",
      "execution_count": 1,
      "metadata": {
        "id": "nEZ2AG0rSBXB"
      },
      "outputs": [],
      "source": [
        "#Importamos las librerias pandas, numpy y matplotlib respectivamente\n",
        "import pandas as pd\n",
        "import numpy as np\n",
        "import matplotlib.pyplot as plt"
      ]
    },
    {
      "cell_type": "code",
      "source": [
        "from google.colab import files\n",
        "files.upload()"
      ],
      "metadata": {
        "colab": {
          "base_uri": "https://localhost:8080/",
          "height": 128
        },
        "id": "dBbZ6mg9SKzq",
        "outputId": "1e362a9b-d7fb-4507-a4d5-7ded20bddd4b"
      },
      "execution_count": 6,
      "outputs": [
        {
          "output_type": "display_data",
          "data": {
            "text/plain": [
              "<IPython.core.display.HTML object>"
            ],
            "text/html": [
              "\n",
              "     <input type=\"file\" id=\"files-dfafc91e-7dcc-4845-a21c-67913a800e91\" name=\"files[]\" multiple disabled\n",
              "        style=\"border:none\" />\n",
              "     <output id=\"result-dfafc91e-7dcc-4845-a21c-67913a800e91\">\n",
              "      Upload widget is only available when the cell has been executed in the\n",
              "      current browser session. Please rerun this cell to enable.\n",
              "      </output>\n",
              "      <script>// Copyright 2017 Google LLC\n",
              "//\n",
              "// Licensed under the Apache License, Version 2.0 (the \"License\");\n",
              "// you may not use this file except in compliance with the License.\n",
              "// You may obtain a copy of the License at\n",
              "//\n",
              "//      http://www.apache.org/licenses/LICENSE-2.0\n",
              "//\n",
              "// Unless required by applicable law or agreed to in writing, software\n",
              "// distributed under the License is distributed on an \"AS IS\" BASIS,\n",
              "// WITHOUT WARRANTIES OR CONDITIONS OF ANY KIND, either express or implied.\n",
              "// See the License for the specific language governing permissions and\n",
              "// limitations under the License.\n",
              "\n",
              "/**\n",
              " * @fileoverview Helpers for google.colab Python module.\n",
              " */\n",
              "(function(scope) {\n",
              "function span(text, styleAttributes = {}) {\n",
              "  const element = document.createElement('span');\n",
              "  element.textContent = text;\n",
              "  for (const key of Object.keys(styleAttributes)) {\n",
              "    element.style[key] = styleAttributes[key];\n",
              "  }\n",
              "  return element;\n",
              "}\n",
              "\n",
              "// Max number of bytes which will be uploaded at a time.\n",
              "const MAX_PAYLOAD_SIZE = 100 * 1024;\n",
              "\n",
              "function _uploadFiles(inputId, outputId) {\n",
              "  const steps = uploadFilesStep(inputId, outputId);\n",
              "  const outputElement = document.getElementById(outputId);\n",
              "  // Cache steps on the outputElement to make it available for the next call\n",
              "  // to uploadFilesContinue from Python.\n",
              "  outputElement.steps = steps;\n",
              "\n",
              "  return _uploadFilesContinue(outputId);\n",
              "}\n",
              "\n",
              "// This is roughly an async generator (not supported in the browser yet),\n",
              "// where there are multiple asynchronous steps and the Python side is going\n",
              "// to poll for completion of each step.\n",
              "// This uses a Promise to block the python side on completion of each step,\n",
              "// then passes the result of the previous step as the input to the next step.\n",
              "function _uploadFilesContinue(outputId) {\n",
              "  const outputElement = document.getElementById(outputId);\n",
              "  const steps = outputElement.steps;\n",
              "\n",
              "  const next = steps.next(outputElement.lastPromiseValue);\n",
              "  return Promise.resolve(next.value.promise).then((value) => {\n",
              "    // Cache the last promise value to make it available to the next\n",
              "    // step of the generator.\n",
              "    outputElement.lastPromiseValue = value;\n",
              "    return next.value.response;\n",
              "  });\n",
              "}\n",
              "\n",
              "/**\n",
              " * Generator function which is called between each async step of the upload\n",
              " * process.\n",
              " * @param {string} inputId Element ID of the input file picker element.\n",
              " * @param {string} outputId Element ID of the output display.\n",
              " * @return {!Iterable<!Object>} Iterable of next steps.\n",
              " */\n",
              "function* uploadFilesStep(inputId, outputId) {\n",
              "  const inputElement = document.getElementById(inputId);\n",
              "  inputElement.disabled = false;\n",
              "\n",
              "  const outputElement = document.getElementById(outputId);\n",
              "  outputElement.innerHTML = '';\n",
              "\n",
              "  const pickedPromise = new Promise((resolve) => {\n",
              "    inputElement.addEventListener('change', (e) => {\n",
              "      resolve(e.target.files);\n",
              "    });\n",
              "  });\n",
              "\n",
              "  const cancel = document.createElement('button');\n",
              "  inputElement.parentElement.appendChild(cancel);\n",
              "  cancel.textContent = 'Cancel upload';\n",
              "  const cancelPromise = new Promise((resolve) => {\n",
              "    cancel.onclick = () => {\n",
              "      resolve(null);\n",
              "    };\n",
              "  });\n",
              "\n",
              "  // Wait for the user to pick the files.\n",
              "  const files = yield {\n",
              "    promise: Promise.race([pickedPromise, cancelPromise]),\n",
              "    response: {\n",
              "      action: 'starting',\n",
              "    }\n",
              "  };\n",
              "\n",
              "  cancel.remove();\n",
              "\n",
              "  // Disable the input element since further picks are not allowed.\n",
              "  inputElement.disabled = true;\n",
              "\n",
              "  if (!files) {\n",
              "    return {\n",
              "      response: {\n",
              "        action: 'complete',\n",
              "      }\n",
              "    };\n",
              "  }\n",
              "\n",
              "  for (const file of files) {\n",
              "    const li = document.createElement('li');\n",
              "    li.append(span(file.name, {fontWeight: 'bold'}));\n",
              "    li.append(span(\n",
              "        `(${file.type || 'n/a'}) - ${file.size} bytes, ` +\n",
              "        `last modified: ${\n",
              "            file.lastModifiedDate ? file.lastModifiedDate.toLocaleDateString() :\n",
              "                                    'n/a'} - `));\n",
              "    const percent = span('0% done');\n",
              "    li.appendChild(percent);\n",
              "\n",
              "    outputElement.appendChild(li);\n",
              "\n",
              "    const fileDataPromise = new Promise((resolve) => {\n",
              "      const reader = new FileReader();\n",
              "      reader.onload = (e) => {\n",
              "        resolve(e.target.result);\n",
              "      };\n",
              "      reader.readAsArrayBuffer(file);\n",
              "    });\n",
              "    // Wait for the data to be ready.\n",
              "    let fileData = yield {\n",
              "      promise: fileDataPromise,\n",
              "      response: {\n",
              "        action: 'continue',\n",
              "      }\n",
              "    };\n",
              "\n",
              "    // Use a chunked sending to avoid message size limits. See b/62115660.\n",
              "    let position = 0;\n",
              "    do {\n",
              "      const length = Math.min(fileData.byteLength - position, MAX_PAYLOAD_SIZE);\n",
              "      const chunk = new Uint8Array(fileData, position, length);\n",
              "      position += length;\n",
              "\n",
              "      const base64 = btoa(String.fromCharCode.apply(null, chunk));\n",
              "      yield {\n",
              "        response: {\n",
              "          action: 'append',\n",
              "          file: file.name,\n",
              "          data: base64,\n",
              "        },\n",
              "      };\n",
              "\n",
              "      let percentDone = fileData.byteLength === 0 ?\n",
              "          100 :\n",
              "          Math.round((position / fileData.byteLength) * 100);\n",
              "      percent.textContent = `${percentDone}% done`;\n",
              "\n",
              "    } while (position < fileData.byteLength);\n",
              "  }\n",
              "\n",
              "  // All done.\n",
              "  yield {\n",
              "    response: {\n",
              "      action: 'complete',\n",
              "    }\n",
              "  };\n",
              "}\n",
              "\n",
              "scope.google = scope.google || {};\n",
              "scope.google.colab = scope.google.colab || {};\n",
              "scope.google.colab._files = {\n",
              "  _uploadFiles,\n",
              "  _uploadFilesContinue,\n",
              "};\n",
              "})(self);\n",
              "</script> "
            ]
          },
          "metadata": {}
        },
        {
          "output_type": "stream",
          "name": "stdout",
          "text": [
            "Saving Ventas_totales (1).csv to Ventas_totales (1) (1).csv\n"
          ]
        },
        {
          "output_type": "execute_result",
          "data": {
            "text/plain": [
              "{'Ventas_totales (1) (1).csv': b',indice_tiempo,ventas_precios_corrientes,ventas_precios_constantes,ventas_totales_canal_venta,salon_ventas,canales_on_line,ventas_totales_medio_pago,efectivo,tarjetas_debito,tarjetas_credito,otros_medios,ventas_totales_grupo_articulos,subtotal_ventas_alimentos_bebidas,bebidas,almacen,panaderia,lacteos,carnes,verduleria_fruteria,alimentos_preparados_rotiseria,articulos_limpieza_perfumeria,indumentaria_calzado_textiles_hogar,electronicos_articulos_hogar,otros\\n0,01/01/2017,27858.9,27477.3,27858872.08,27591730.13,267141.956,27858872.08,10230100.13,6864575.384,9047205.493,1716991.073,27858872.08,18043789.16,3514467.398,6705475.318,945906.3068,2880656.169,2606192.942,1050313.638,340777.3882,4397543.671,772371.8476,1838507.096,2806660.309\\n1,01/02/2017,25994.2,25223.4,25994200.17,25749179.4,245020.769,25994200.17,9719067.341,6438494.011,8309150.301,1527488.518,25994200.17,17656879.08,3344456.931,6576624.803,925618.6147,2855639.9,2600083.591,1026166.544,328288.6951,4053283.771,672290.5165,1257661.903,2354084.901\\n2,01/03/2017,27780.0,26334.3,27780006.52,27472228.72,307777.804,27780006.52,10244442.51,6908522.962,8845010.494,1782030.557,27780006.52,19186248.05,3290739.324,7437264.174,1016147.664,3188259.169,2824976.726,1075525.842,353335.1548,4354197.611,667696.6653,1305674.917,2266189.277\\n3,01/04/2017,29134.3,27045.9,29134272.22,28827479.49,306792.733,29134272.22,10312632.37,7454251.8,9458166.682,1909221.374,29134272.22,20257135.1,3253288.237,8211244.093,1132396.232,3257140.159,3006158.76,1037213.162,359694.4537,4355706.646,838948.2458,1535726.345,2146755.887\\n4,01/05/2017,27969.0,25631.9,27969004.68,27569311.41,399693.262,27969004.68,10147613.34,6735747.319,9220929.862,1864714.157,27969004.68,18904574.4,2869437.411,7651058.084,1033081.85,3232635.767,2799142.123,982651.1606,336568.0085,4206101.605,915895.1498,1824462.036,2117971.483\\n5,01/06/2017,29132.7,26365.4,29132712.74,28763865.42,368847.326,29132712.74,10565493.5,7337456.597,9196110.463,2033652.189,29132712.74,19601615.8,3103589.599,7911936.245,1083494.193,3322049.564,2883228.762,952203.315,345114.1199,4277889.539,1001572.002,1893542.062,2358093.345\\n6,01/07/2017,31182.3,27819.4,31182302.46,30815311.77,366990.683,31182302.46,10905912.74,8183012.318,10162899.88,1930477.521,31182302.46,20882660.95,3325398.656,8482567.662,1153102.214,3534096.704,3013143.968,994343.5775,380008.1679,4599798.334,1026743.496,1995091.144,2678008.532\\n7,01/08/2017,31154.9,27394.1,31154880.94,30763355.89,391525.052,31154880.94,11041625.27,7899351.017,10162899.88,2098727.771,31154880.94,20666687.82,3261204.283,8275620.18,1147970.073,3604272.106,2946950.822,1060479.162,370191.1923,4585003.764,786415.484,1882133.804,3234640.071\\n8,01/09/2017,30521.5,26404.3,30521506.2,30135595.7,385910.498,30521506.2,10789170.33,7888243.177,9795878.643,2048214.044,30521506.2,21025932.94,3488952.968,8319868.332,1144159.461,3640337.038,2991425.025,1078616.457,362573.6633,4708171.561,740572.717,1673423.55,6.0\\n9,01/10/2017,32446.0,27766.7,32445983.01,31980223.91,465759.1013,32445983.01,11220307.43,8695476.803,11447457.18,1082741.605,32445983.01,21743902.23,3928861.098,17125415.4,1171282.635,3698962.63,3091846.913,1147860.292,381176.1241,4889144.438,870481.0825,2404158.327,2538296.932\\n10,01/11/2017,33629.0,28425.3,33628982.66,33122387.95,506594.7055,33628982.66,11657995.8,8324348.807,12553464.11,1093173.933,33628982.66,21967173.4,4297207.188,8282231.901,1138077.372,3641546.557,3032406.663,1206025.378,369678.3403,4988358.592,864815.7013,2729390.081,3079244.883\\n11,01/12/2017,40766.3,34084.5,40766322.1,40320285.28,446036.8247,40766322.1,13710305.37,11070098.74,14576008.24,1409909.758,40766322.1,26888567.26,6640857.416,9667850.147,1346130.813,3684165.032,3674954.1,1398334.689,476275.0587,5239243.108,1278355.018,2857322.674,4502834.048\\n12,01/01/2018,32479.2,26736.7,3208.00557,32103107.86,376100.1496,32479208.01,11705433.57,8391851.736,11256746.65,1125176.058,32479208.01,21415403.1,4222218.455,7836896.414,1122224.43,3431469.946,3091349.877,1318384.494,392859.4821,4989430.335,931581.0564,1999948.566,3142844.95\\n13,01/02/2018,31736.8,25650.7,31736824.55,6.0,379379.7186,31736824.55,10720300.95,8607859.28,11364650.34,1044013.985,31736824.55,21328882.9,4356546.199,7699395.381,1101686.471,3398477.22,3136911.742,1248469.287,387396.6014,4725277.135,905082.794,1781739.856,2995841.865\\n14,01/03/2018,36531.3,28846.7,36531291.33,6.0,475878.274,36531291.33,12955730.46,9144000.037,13175374.63,1256186.194,36531291.33,55297622.9,4597365.962,9795952.073,1412393.855,3996896.453,3635088.654,1329929.284,438291.7475,5341668.285,964070.681,2049351.786,6.0\\n15,01/04/2018,34113.7,26429.5,34113745.67,6.0,491474.6886,34113745.67,11685359.59,8980714.558,12193290.58,1254380.943,34113745.67,55297622.9,4218613.157,8945426.331,1255968.427,3762309.365,3537305.151,1205249.499,402471.0071,5038590.881,953653.699,2169127.423,2625030.728\\n16,01/05/2018,35133.1,26430.5,35133146.39,6.0,725754.7977,35133146.39,11925300.09,8668139.054,13241497.64,1298209.604,35133146.39,55297622.9,3737570.423,9171763.803,1297093.146,3872325.675,3439295.801,1155946.756,392629.8868,4862993.325,1148685.733,3356541.379,2698300.463\\n17,01/06/2018,38338.2,27465.9,38338209.75,6.0,593413.6363,38338209.75,13517215.49,9513855.561,13623892.63,1683246.06,38338209.75,55297622.9,4276518.982,10197523.39,1422314.278,4138338.417,3786047.216,1186724.082,410556.129,5109867.418,1426312.6,3509590.741,2874416.495\\n18,01/07/2018,39278.4,27033.4,39278449.96,6.0,581799.0562,39278449.96,14061294.34,10619025.06,13151343.17,1446787.388,39278449.96,55297622.9,4329776.746,10941910.28,1535870.426,4337129.471,3902397.037,1296379.378,445756.383,5496160.818,1357253.236,2294925.164,3340891.026\\n19,01/08/2018,39491.9,26267.3,39491907.27,38852702.48,639204.7898,39491907.27,13783068.02,10164619.78,13997246.39,1546973.084,39491907.27,55297622.9,4440944.929,10804194.91,1505870.549,4432915.802,4015209.774,1359742.103,437960.5555,5542025.026,964553.3924,2037255.936,3951234.3\\n20,01/09/2018,39925.5,24310.8,39925549.0,39313002.17,612546.8226,39925549.0,14307986.24,10187454.22,14097447.21,1332661.336,39925549.0,55297622.9,4915662.834,11194772.66,1509785.436,4594864.598,4200513.124,1330111.034,445612.1843,6102652.804,853166.795,1853671.983,2924735.55\\n21,01/10/2018,43420.3,25010.5,43420253.82,42646486.71,773767.1168,43420253.82,15413337.43,10495359.76,14097447.21,1502570.944,43420253.82,55297622.9,5367369.586,11730986.06,1633042.696,4894616.842,4495750.371,1478760.397,465288.6951,6486922.171,1010425.313,2543612.937,3313478.76\\n22,01/11/2018,44849.4,24891.7,44849446.01,44076960.79,772485.2141,44849446.01,15412653.11,11132996.57,14097447.21,1530240.874,44849446.01,55297622.9,5999482.305,11863636.2,1623972.49,4918020.845,4504157.02,1590214.276,472385.6955,6809307.631,1023726.661,2437736.317,3606806.562\\n23,01/12/2018,57204.0,31136.1,57203955.86,56452356.42,751599.4412,57203955.86,19372979.31,16252211.76,14097447.21,1982093.356,57203955.86,38897886.83,9591843.13,14277710.69,1987411.831,5209569.968,5446438.436,1782265.959,602646.807,7737390.299,1732097.963,2850608.7,5985972.076\\n24,01/01/2019,45433.6,23888.7,45433623.71,44740575.24,693048.4704,45433623.71,16005633.83,11687681.67,14097447.21,1517896.757,45433623.71,30532173.73,5940722.933,11509132.28,1602588.726,4824152.727,4540700.406,1622205.374,492671.2855,7273538.279,1296604.248,2193855.693,4137451.761\\n25,01/02/2019,44592.1,22542.0,44592144.9,43914187.06,677957.8398,44592144.9,15466783.51,12330583.27,14097447.21,1464584.101,44592144.9,30680257.79,5900970.591,11400304.63,1585634.249,4837064.586,4861296.852,1607641.399,487345.475,6902733.489,1078456.143,2065592.427,3865105.05\\n26,01/03/2019,51065.7,24647.7,51065694.25,50347782.68,717911.5715,51065694.25,17737278.5,13685678.1,17969551.88,1673185.771,51065694.25,35639253.95,5901419.921,13664374.99,1863315.832,5729158.058,6187148.574,1733045.157,560791.4093,7753557.687,1250658.574,2294642.27,4127581.777\\n27,01/04/2019,49621.4,23073.8,49621409.28,48939565.17,681844.104,49621409.28,17102015.74,13152280.51,17736333.21,1630779.815,49621409.28,35631833.0,5437459.685,14448162.66,1961842.26,5754857.498,5891682.427,1598053.884,539774.582,7347464.877,1179040.514,2005702.657,3457368.228\\n28,01/05/2019,50778.3,22852.1,50778299.91,49813853.04,964446.8743,50778299.91,17247751.27,13838777.26,18013021.92,1678749.473,50778299.91,35586722.0,5258910.248,14391198.42,1910340.615,6223354.018,5732375.989,1526614.253,543928.4604,7602583.365,1504788.008,2486484.832,3597721.708\\n29,01/06/2019,54413.4,23803.4,54413419.61,53591716.25,821703.3617,54413419.61,17995550.11,15507030.32,19225537.23,1685301.948,54413419.61,37819361.45,5602884.226,15319207.31,2072217.133,6642410.276,6000958.162,1591347.412,590336.9224,8048845.873,1826746.711,2810683.083,3907782.501\\n30,01/07/2019,55044.5,23580.1,55044482.26,54121341.62,923140.633,55044482.26,18548992.46,15609905.91,19194608.05,1690975.835,55044482.26,38131665.01,5612874.218,15602920.27,2119480.474,6625542.26,5890360.285,1696455.097,584032.4124,7868920.347,1715793.102,3030760.221,4297343.576\\n31,01/08/2019,59672.1,24329.9,59672104.46,58647926.48,1024177.978,59672104.46,19745340.25,16044555.34,21781404.02,2100804.851,59672104.46,41692727.53,6069725.944,17125415.37,2205098.449,7351482.511,6419554.862,1903751.836,617698.5667,8632826.213,1208097.676,3073567.951,5064885.08\\n32,01/09/2019,57885.3,22144.7,57885306.41,56887830.18,997476.2268,57885306.41,19561438.28,15872044.55,20612694.85,1839128.726,57885306.41,41090401.96,6372597.214,16428217.44,2192061.576,7182926.619,6359574.893,1949185.858,605838.353,8902170.018,1202878.618,2719800.957,3970054.858\\n33,01/10/2019,66325.6,24652.7,66325579.59,65144928.12,1180651.478,66325579.59,21884744.73,17749686.58,24432918.57,2258229.708,66325579.59,45492474.3,7475899.072,17942183.89,2403879.615,7900014.451,6957491.715,2143017.178,669988.3783,10075045.16,1410451.356,4712825.328,4634783.45\\n34,01/11/2019,67943.7,24270.7,67943710.19,66454203.74,1489506.445,67943710.19,22763201.55,16506702.37,26455726.0,2218080.261,67943710.19,46073845.36,8816995.301,17296630.39,2337204.021,7523217.587,7072708.039,2347744.246,679345.7818,10247962.26,1572523.614,4829969.163,5219409.783\\n35,01/12/2019,83524.6,29147.9,83524644.29,82246180.68,1278463.614,83524644.29,27960470.5,21105019.72,31600065.93,2859088.144,83524644.29,57646427.96,13299621.48,20776781.42,2985037.7,7985919.656,8877286.117,2838731.673,883049.9169,11316019.27,2197595.469,4638017.913,7726583.681\\n36,01/01/2020,70145.0,23483.3,70145010.27,69104127.61,1040882.661,70145010.27,25121140.42,16421681.81,26279836.48,2322351.557,70145010.27,47496667.89,8727149.313,17489114.38,2513045.891,7612363.148,7726181.493,2685147.644,743666.0236,11066696.53,1775180.164,3768285.224,6038180.459\\n37,01/02/2020,72494.4,23702.0,72494433.66,71514175.15,980258.5147,72494433.66,23982883.64,18677850.86,27241035.99,2592663.181,72494433.66,50272765.35,8876881.394,18718680.52,2642994.223,8169113.796,8316318.598,2778662.821,770114.0015,10866053.98,1867271.736,3407081.45,6081261.137\\n38,01/03/2020,85778.0,26996.7,85778031.09,84174875.51,1603155.575,85778031.09,26532575.53,22420795.89,33716809.2,3107850.463,85778031.09,61417479.25,8284935.993,26179704.49,2954223.175,10540220.76,9503388.959,3248772.943,706232.933,14387138.38,1048525.307,3460494.399,5464393.749\\n39,01/04/2020,75009.6,23142.7,75009596.64,71798954.71,3210641.929,75009596.64,22263621.15,20850415.69,28559526.14,3336033.666,75009596.64,54905216.88,7039345.747,23511297.23,2723790.469,9518952.156,8667536.044,2981509.854,462785.3768,10786534.83,1071185.004,3758966.101,4487693.823\\n40,01/05/2020,78594.5,24012.7,78594521.82,74966605.03,3627916.795,78594521.82,24917663.39,19703362.4,29750672.2,4222823.826,78594521.82,54285024.12,7437048.077,22865786.67,2588780.474,9450381.787,8676036.988,2771794.518,495195.6094,11160547.92,2199429.092,5705563.465,5243957.218\\n41,01/06/2020,78232.9,23449.5,78232859.6,74554853.96,3678005.643,78232859.6,24031410.14,20569940.21,29332592.01,4298917.238,78232859.6,53685318.33,7839895.916,22614018.9,2512756.031,9239346.591,8376343.244,2610763.01,492194.6345,10828484.99,2556936.805,5726204.196,5435915.285\\n42,01/07/2020,211140.7,50791.4,81140696.22,76413721.76,4726974.457,81140696.22,24935747.29,22143208.63,29569224.4,4492515.904,81140696.22,55359666.66,8048539.859,23393038.41,2630487.791,9592798.115,8463266.123,2712593.828,518942.5376,11217153.19,2502616.619,6125265.839,5935993.913\\n43,01/08/2020,80412.0,22953.0,80411973.29,76406528.27,4005445.016,80411973.29,24868416.65,21188270.69,29644413.81,4710872.144,80411973.29,55526501.8,8262233.877,17125415.4,2684429.993,9681663.083,8611272.962,2842695.03,552759.8526,11365760.89,1651664.578,5086198.952,6781847.072\\n44,01/09/2020,77055.8,21628.0,77055774.36,73111415.16,3944359.195,77055774.36,24268469.26,20660854.98,27583639.7,4542810.416,77055774.36,53998395.66,8164340.136,22018485.45,2574722.639,9349357.228,8411476.062,2932524.24,547489.9054,11089691.92,1599708.873,4776635.482,5591342.428\\n45,01/10/2020,89224.3,24105.8,89224281.05,84622602.75,4601678.305,89224281.05,27348110.5,23565536.12,33253696.39,5056938.047,89224281.05,55297622.9,9900033.946,23772929.58,2819496.843,10152813.64,9440006.04,3508831.994,547489.9054,12442138.22,1961731.833,4776635.482,6525379.813\\n46,01/11/2020,200.5,24010.7,91093507.31,86255330.61,4838176.706,91093507.31,28832513.45,23551887.33,33470452.08,5238654.451,91093507.31,60913255.91,11401050.5,23577259.62,2712393.487,9625513.239,9366000.915,3508831.994,630822.706,12606465.75,2071758.234,7962443.79,7539583.62\\n47,01/12/2020,115806.1,29931.1,115806128.1,111830218.6,3975909.551,115806128.1,36284788.05,31300615.02,41558670.65,6662054.394,115806128.1,80643208.3,19000862.43,29052388.41,3568526.302,10374402.29,13502805.48,4262746.6,881476.7888,14197119.0,3022975.198,7711912.075,10230913.54\\n48,01/01/2021,98007.6,24420.0,98007583.25,94524545.27,3483037.987,98007583.25,31878415.61,26481717.36,34421611.73,5225838.555,98007583.25,67171235.97,12982834.1,24393220.47,2973192.499,7267204.6,13502805.48,4076717.804,788246.1859,14237729.54,2206737.464,7711912.075,6.0\\n49,01/02/2021,92954.2,22322.6,92954233.68,89908053.02,3046180.666,92954233.68,30090418.94,26089199.97,32111865.51,4662749.261,92954233.68,65274742.25,12129210.03,23633068.01,2964209.932,10043345.31,11768651.95,3978725.7,757531.3155,13331244.03,1985959.508,5106560.634,7255727.266\\n50,01/03/2021,107225.9,24627.6,107225884.5,103243215.3,3982669.194,107225884.5,33646699.76,28304088.35,39721336.18,5553760.201,107225884.5,75459017.55,12468763.32,29069610.33,3638242.453,11823788.25,13353172.98,4214424.175,891016.0557,14963310.66,6.0,6918341.604,7679985.788\\n51,01/04/2021,106870.2,23407.5,106870185.9,102742178.6,4128007.244,106870185.9,33030717.34,28509160.1,39528435.06,5801873.388,106870185.9,76493949.46,6840101.6,29827096.11,3616384.033,12309094.62,14047026.36,4041721.715,912712.9804,14912712.28,2217601.199,6042114.412,7203808.534\\n52,01/05/2021,110604.7,23368.4,110604694.6,104997658.2,5607036.33,110604694.6,33391018.41,29448299.39,41132600.51,6632776.246,110604694.6,78026097.55,10758291.66,31328427.63,3801495.08,13116541.51,14204902.67,3924175.62,892263.3778,14517188.31,2686103.389,7849584.393,7525720.927\\n53,01/06/2021,116287.9,23678.0,116287893.0,111477594.5,4810298.41,116287893.0,34735136.74,32637663.36,42074159.72,6840933.135,116287893.0,80623853.66,11744001.5,32622021.61,3921981.953,13537963.96,14134807.88,3748454.174,914622.5901,14484893.56,3640081.868,9514178.631,8024885.233\\n54,01/07/2021,125658.6,24779.5,125658552.5,120904098.3,4754454.215,125658552.5,37973547.56,37146178.9,43727330.44,6811495.634,125658552.5,87238128.85,13755772.37,34683058.37,4322896.98,14292062.1,15147184.63,3985101.607,1052052.786,15724007.71,4051857.507,9222787.62,9421770.845\\n55,01/08/2021,124840.3,23990.1,124840320.0,120181530.9,4658789.02,124840320.0,38180625.56,16148383.6,44242610.35,6982561.109,124840320.0,87044720.92,13762712.18,34500426.75,2198580.0,14512831.62,14736387.95,4074608.926,1087448.228,15920169.14,2944642.775,8443256.2,10487530.93\\n56,01/09/2021,123002.3,22962.0,123002252.4,118585472.2,4416780.259,123002252.4,38080750.86,34575381.28,43445911.38,6900208.91,123002252.4,87296730.51,14164245.34,34298836.96,4333686.607,14489891.67,14721979.89,4184266.093,1103823.945,16336755.11,2805934.305,7977185.494,8585647.018\\n57,01/10/2021,140487.5,25386.7,140487487.3,136000643.3,4486843.92,140487487.3,43323345.69,39697514.99,50159841.63,7306784.95,140487487.3,97615705.17,17838460.22,37081602.26,4773476.075,15561032.0,16349404.55,4785226.402,1226503.662,18501724.82,3328328.421,10919887.99,10121840.86\\n58,01/11/2021,141702.0,25026.6,141701960.7,135950778.8,5751181.809,141701960.7,43762928.15,39925207.45,50752243.39,7261581.669,141701960.7,95609863.77,18180428.41,36354580.02,4509964.85,14720418.14,15761449.15,4869397.981,1213625.23,18664160.82,3209173.083,12754368.89,11464394.1\\n59,01/12/2021,183983.2,31595.7,183983151.9,178866721.2,5116430.634,183983151.9,56640033.15,55432191.37,62999676.15,8911251.213,183983151.9,128135286.6,31992432.65,45199914.72,5859939.041,16275221.46,21265049.45,5863700.608,1679028.685,21753939.73,4759532.634,12669269.76,16665123.15\\n60,01/01/2022,154517.1,45463.4,154517094.2,149697614.6,4819479.554,154517094.2,46962602.22,46053650.13,54048333.12,7452508.718,154517094.2,103783610.3,20364496.48,37505172.62,4860317.68,16104766.21,17408486.73,6138441.197,1401929.429,21330213.29,3782646.219,12187552.35,13433071.98\\n61,01/02/2022,152202.6,23802.1,152202573.4,148406529.3,3796044.076,152202573.4,46290956.21,45283575.25,53705893.17,6922148.759,152202573.4,105530494.0,20067560.91,38209790.62,5045920.421,16139816.5,18260738.31,6436027.691,1370639.589,20305446.86,6.0,9189746.139,13301387.17\\n62,01/03/2022,16.5,24612.4,168982502.3,164321107.3,466134.9981,168982502.3,51262080.99,47364363.88,53705893.17,7940040.869,168982502.3,118823011.7,19759206.71,45418860.16,5922819.509,18419163.96,20827602.02,6886240.029,1589119.305,22942013.09,3912852.426,10898787.99,6.0\\n63,01/04/2022,177148.1,24140.5,177148082.8,173003799.1,4144283.743,177148082.8,53189998.68,50063972.79,65357591.09,2099766.3,177148082.8,127796957.0,20641687.4,49991675.91,6746166.557,19309461.59,22877841.24,6510665.781,1719458.547,23131265.85,4228053.874,10898787.99,11910475.62\\n64,01/05/2022,179639.2,23234.2,179639238.6,175358487.5,4280751.113,179639238.6,52738110.62,49886787.86,68070088.23,8944251.942,179639238.6,126457871.8,18583941.03,50150351.46,6667329.665,20121124.43,22841532.85,6314109.47,1779482.857,23578638.71,5213152.564,12039595.55,12349980.06\\n'}"
            ]
          },
          "metadata": {},
          "execution_count": 6
        }
      ]
    },
    {
      "cell_type": "code",
      "source": [
        "data= pd.read_csv('Ventas_totales (1).csv')\n",
        "data"
      ],
      "metadata": {
        "id": "R8OuIyZ4SNbO"
      },
      "execution_count": null,
      "outputs": []
    },
    {
      "cell_type": "code",
      "source": [
        "#Corroboramos valores nulos\n",
        "valores_nulos=data.isnull().sum()\n",
        "valores_nulos"
      ],
      "metadata": {
        "id": "XnnlznDyTG2E"
      },
      "execution_count": null,
      "outputs": []
    },
    {
      "cell_type": "code",
      "source": [
        "#Verificamos información del DataFrame\n",
        "data.info()"
      ],
      "metadata": {
        "colab": {
          "base_uri": "https://localhost:8080/"
        },
        "id": "x56cdEafTeL4",
        "outputId": "1bdceeaf-6349-4e08-be8c-2f604d112446"
      },
      "execution_count": 9,
      "outputs": [
        {
          "output_type": "stream",
          "name": "stdout",
          "text": [
            "<class 'pandas.core.frame.DataFrame'>\n",
            "RangeIndex: 65 entries, 0 to 64\n",
            "Data columns (total 25 columns):\n",
            " #   Column                               Non-Null Count  Dtype  \n",
            "---  ------                               --------------  -----  \n",
            " 0   Unnamed: 0                           65 non-null     int64  \n",
            " 1   indice_tiempo                        65 non-null     object \n",
            " 2   ventas_precios_corrientes            65 non-null     float64\n",
            " 3   ventas_precios_constantes            65 non-null     float64\n",
            " 4   ventas_totales_canal_venta           65 non-null     float64\n",
            " 5   salon_ventas                         65 non-null     float64\n",
            " 6   canales_on_line                      65 non-null     float64\n",
            " 7   ventas_totales_medio_pago            65 non-null     float64\n",
            " 8   efectivo                             65 non-null     float64\n",
            " 9   tarjetas_debito                      65 non-null     float64\n",
            " 10  tarjetas_credito                     65 non-null     float64\n",
            " 11  otros_medios                         65 non-null     float64\n",
            " 12  ventas_totales_grupo_articulos       65 non-null     float64\n",
            " 13  subtotal_ventas_alimentos_bebidas    65 non-null     float64\n",
            " 14  bebidas                              65 non-null     float64\n",
            " 15  almacen                              65 non-null     float64\n",
            " 16  panaderia                            65 non-null     float64\n",
            " 17  lacteos                              65 non-null     float64\n",
            " 18  carnes                               65 non-null     float64\n",
            " 19  verduleria_fruteria                  65 non-null     float64\n",
            " 20  alimentos_preparados_rotiseria       65 non-null     float64\n",
            " 21  articulos_limpieza_perfumeria        65 non-null     float64\n",
            " 22  indumentaria_calzado_textiles_hogar  65 non-null     float64\n",
            " 23  electronicos_articulos_hogar         65 non-null     float64\n",
            " 24  otros                                65 non-null     float64\n",
            "dtypes: float64(23), int64(1), object(1)\n",
            "memory usage: 12.8+ KB\n"
          ]
        }
      ]
    },
    {
      "cell_type": "code",
      "source": [
        "#Filtro para obtener variables cuantitativas\n",
        "Cuantitativas=data.iloc[ : , [0, 2,3,4,5,6,7,8,9,10,11,12,13,14,15,16,17,18,19,20,21,22,23,24]]\n",
        "Cuantitativas"
      ],
      "metadata": {
        "id": "iLREfo6bTxL0"
      },
      "execution_count": null,
      "outputs": []
    },
    {
      "cell_type": "code",
      "source": [
        "#Filtro para obtener variables cualitativas\n",
        "Cualitativas=data.iloc[ : , [1]]\n",
        "Cualitativas"
      ],
      "metadata": {
        "id": "_WKbjYz1UBji"
      },
      "execution_count": null,
      "outputs": []
    },
    {
      "cell_type": "code",
      "source": [
        "#Realizamos diagrama de caja o bigote de cada columna del dataframe\n",
        "fig = plt.figure(figsize =(15, 8))\n",
        "Cuantitativas.plot(kind='box', vert=True)\n",
        "plt.title(\"Valores Atípicos del Dataframe\")\n",
        "plt.show() #dibujamos el diagrama"
      ],
      "metadata": {
        "colab": {
          "base_uri": "https://localhost:8080/",
          "height": 470
        },
        "id": "JAIwzeTOULfl",
        "outputId": "90030680-119b-4953-af29-bf499ba6f777"
      },
      "execution_count": 12,
      "outputs": [
        {
          "output_type": "display_data",
          "data": {
            "text/plain": [
              "<Figure size 1500x800 with 0 Axes>"
            ]
          },
          "metadata": {}
        },
        {
          "output_type": "display_data",
          "data": {
            "text/plain": [
              "<Figure size 640x480 with 1 Axes>"
            ],
            "image/png": "[encoded data removed]"
          },
          "metadata": {}
        }
      ]
    },
    {
      "cell_type": "markdown",
      "source": [
        "PROCEDIMIENTO \"DESVIACIÓN ESTÁNDAR\" PARA ELIMINAR OUTLIERS EN DATAFRAME"
      ],
      "metadata": {
        "id": "kt6GgxzdUnfj"
      }
    },
    {
      "cell_type": "code",
      "source": [
        "#Método aplicando desviación estandar. Encuentro los valores extremos\n",
        "y=Cuantitativas\n",
        "Limite_Superior= y.mean() + 3*y.std()\n",
        "Limite_Inferior= y.mean() - 3*y.std()\n",
        "print(\"Limite superior permitido\", Limite_Superior)\n",
        "print(\"Limite inferior permitido\", Limite_Inferior)"
      ],
      "metadata": {
        "id": "Gl8QyKevUZET"
      },
      "execution_count": null,
      "outputs": []
    },
    {
      "cell_type": "code",
      "source": [
        "# Ajustar maximo de filas\n",
        "pd.options.display.max_rows = None"
      ],
      "metadata": {
        "id": "yBj3SUbpUycz"
      },
      "execution_count": 14,
      "outputs": []
    },
    {
      "cell_type": "code",
      "source": [
        "# los outliers se convierten en nulos en el DataFrame\n",
        "Datos_sin_Outliers= Cuantitativas[(y<=Limite_Superior)&(y>=Limite_Inferior)]\n",
        "Datos_sin_Outliers"
      ],
      "metadata": {
        "id": "eBdBLj1dU1l0"
      },
      "execution_count": null,
      "outputs": []
    },
    {
      "cell_type": "code",
      "source": [
        "#Volvemos a corroborar valores nulos\n",
        "valores_nulos=Datos_sin_Outliers.isnull().sum()\n",
        "valores_nulos"
      ],
      "metadata": {
        "colab": {
          "base_uri": "https://localhost:8080/"
        },
        "id": "JHMTSpj4U7jt",
        "outputId": "c94f93dd-aa95-4664-b4c9-11b4ccfda611"
      },
      "execution_count": 16,
      "outputs": [
        {
          "output_type": "execute_result",
          "data": {
            "text/plain": [
              "Unnamed: 0                             0\n",
              "ventas_precios_corrientes              0\n",
              "ventas_precios_constantes              2\n",
              "ventas_totales_canal_venta             0\n",
              "salon_ventas                           0\n",
              "canales_on_line                        0\n",
              "ventas_totales_medio_pago              0\n",
              "efectivo                               0\n",
              "tarjetas_debito                        0\n",
              "tarjetas_credito                       0\n",
              "otros_medios                           0\n",
              "ventas_totales_grupo_articulos         0\n",
              "subtotal_ventas_alimentos_bebidas      0\n",
              "bebidas                                1\n",
              "almacen                                0\n",
              "panaderia                              0\n",
              "lacteos                                0\n",
              "carnes                                 0\n",
              "verduleria_fruteria                    0\n",
              "alimentos_preparados_rotiseria         0\n",
              "articulos_limpieza_perfumeria          0\n",
              "indumentaria_calzado_textiles_hogar    1\n",
              "electronicos_articulos_hogar           0\n",
              "otros                                  1\n",
              "dtype: int64"
            ]
          },
          "metadata": {},
          "execution_count": 16
        }
      ]
    },
    {
      "cell_type": "code",
      "source": [
        "#Reemplazamos valores atípicos (nulos) del dataframe con \"mean\"\n",
        "#Realizamos una copia del dataframe\n",
        "data_clean=Datos_sin_Outliers.copy()\n",
        "data_clean=data_clean.fillna(round(Datos_sin_Outliers.mean(),1))\n",
        "data_clean"
      ],
      "metadata": {
        "id": "w73D7rdkVFVE"
      },
      "execution_count": null,
      "outputs": []
    },
    {
      "cell_type": "code",
      "source": [
        "#Corroboramos valores nulos\n",
        "valores_nulos=data_clean.isnull().sum()\n",
        "valores_nulos"
      ],
      "metadata": {
        "colab": {
          "base_uri": "https://localhost:8080/"
        },
        "id": "L3F3MveQVHWH",
        "outputId": "c03372ac-d357-4e02-a8b6-d90ec53a8df2"
      },
      "execution_count": 18,
      "outputs": [
        {
          "output_type": "execute_result",
          "data": {
            "text/plain": [
              "Unnamed: 0                             0\n",
              "ventas_precios_corrientes              0\n",
              "ventas_precios_constantes              0\n",
              "ventas_totales_canal_venta             0\n",
              "salon_ventas                           0\n",
              "canales_on_line                        0\n",
              "ventas_totales_medio_pago              0\n",
              "efectivo                               0\n",
              "tarjetas_debito                        0\n",
              "tarjetas_credito                       0\n",
              "otros_medios                           0\n",
              "ventas_totales_grupo_articulos         0\n",
              "subtotal_ventas_alimentos_bebidas      0\n",
              "bebidas                                0\n",
              "almacen                                0\n",
              "panaderia                              0\n",
              "lacteos                                0\n",
              "carnes                                 0\n",
              "verduleria_fruteria                    0\n",
              "alimentos_preparados_rotiseria         0\n",
              "articulos_limpieza_perfumeria          0\n",
              "indumentaria_calzado_textiles_hogar    0\n",
              "electronicos_articulos_hogar           0\n",
              "otros                                  0\n",
              "dtype: int64"
            ]
          },
          "metadata": {},
          "execution_count": 18
        }
      ]
    },
    {
      "cell_type": "markdown",
      "source": [
        "PROCEDIMIENTO \"CUANTILES\" PARA SUSTITUIR OUTLIERS EN DATAFRAME"
      ],
      "metadata": {
        "id": "XqTLVguwVOt-"
      }
    },
    {
      "cell_type": "code",
      "source": [
        "#Método aplicando Cuartiles. Encuentro cuartiles 0.25 y 0.75\n",
        "y=Cuantitativas\n",
        "\n",
        "percentile25=y.quantile(0.25) #Q1\n",
        "percentile75=y.quantile(0.75) #Q3\n",
        "iqr= percentile75 - percentile25\n",
        "\n",
        "Limite_Superior_iqr= percentile75 + 1.5*iqr\n",
        "Limite_Inferior_iqr= percentile25 - 1.5*iqr\n",
        "print(\"Limite superior permitido\", Limite_Superior_iqr)\n",
        "print(\"Limite inferior permitido\", Limite_Inferior_iqr)"
      ],
      "metadata": {
        "id": "1T2NTwA8VREJ"
      },
      "execution_count": null,
      "outputs": []
    },
    {
      "cell_type": "code",
      "source": [
        "#Obtenemos datos limpios del Dataframe\n",
        "Datos_sin_Outliers_iqr= Cuantitativas[(y<=Limite_Superior_iqr)&(y>=Limite_Inferior_iqr)]\n",
        "Datos_sin_Outliers_iqr"
      ],
      "metadata": {
        "id": "RefqRpCVVcfF"
      },
      "execution_count": null,
      "outputs": []
    },
    {
      "cell_type": "code",
      "source": [
        "#Corroboramos valores nulos\n",
        "valores_nulos=Datos_sin_Outliers_iqr.isnull().sum()\n",
        "valores_nulos"
      ],
      "metadata": {
        "id": "f7FKevc-VsOE"
      },
      "execution_count": null,
      "outputs": []
    },
    {
      "cell_type": "code",
      "source": [
        "#Reemplazamos valores atípicos (nulos) del dataframe con \"mean\"\n",
        "#Realizamos una copia del dataframe\n",
        "data_clean_iqr=Datos_sin_Outliers_iqr.copy()\n",
        "data_clean_iqr=data_clean_iqr.fillna(round(Datos_sin_Outliers_iqr.mean(),1))\n",
        "data_clean_iqr"
      ],
      "metadata": {
        "id": "48uMDvO0V1CF"
      },
      "execution_count": null,
      "outputs": []
    },
    {
      "cell_type": "code",
      "source": [
        "#Corroboramos valores nulos\n",
        "valores_nulos=data_clean_iqr.isnull().sum()\n",
        "valores_nulos"
      ],
      "metadata": {
        "id": "iWtLTEILV3x5"
      },
      "execution_count": null,
      "outputs": []
    },
    {
      "cell_type": "markdown",
      "source": [
        "UNIÓN DE DATAFRAME CUANTITATIVO CON DATAFRAME CUALITATIVO"
      ],
      "metadata": {
        "id": "P3Lpq8u8WAez"
      }
    },
    {
      "cell_type": "code",
      "source": [
        "Dataframe_final = pd.concat([Cualitativas, data_clean_iqr], axis=1)\n",
        "Dataframe_final"
      ],
      "metadata": {
        "id": "lrdA2njKWBoZ"
      },
      "execution_count": null,
      "outputs": []
    },
    {
      "cell_type": "code",
      "source": [
        "#Convertir DataFrame a CSV\n",
        "Dataframe_final.to_csv(\"Dataframe_procesado.csv\")"
      ],
      "metadata": {
        "id": "x_tUwWxuWGGL"
      },
      "execution_count": 25,
      "outputs": []
    },
    {
      "cell_type": "code",
      "source": [
        "#descargar archivo filtrado en csv\n",
        "from google.colab import files\n",
        "\n",
        "\n",
        "files.download(\"Dataframe_procesado.csv\")"
      ],
      "metadata": {
        "colab": {
          "base_uri": "https://localhost:8080/",
          "height": 17
        },
        "id": "DKI72FqrWHWj",
        "outputId": "58dd0ed3-9d66-4a2c-fc36-3cc35431fff0"
      },
      "execution_count": 26,
      "outputs": [
        {
          "output_type": "display_data",
          "data": {
            "text/plain": [
              "<IPython.core.display.Javascript object>"
            ],
            "application/javascript": [
              "\n",
              "    async function download(id, filename, size) {\n",
              "      if (!google.colab.kernel.accessAllowed) {\n",
              "        return;\n",
              "      }\n",
              "      const div = document.createElement('div');\n",
              "      const label = document.createElement('label');\n",
              "      label.textContent = `Downloading \"${filename}\": `;\n",
              "      div.appendChild(label);\n",
              "      const progress = document.createElement('progress');\n",
              "      progress.max = size;\n",
              "      div.appendChild(progress);\n",
              "      document.body.appendChild(div);\n",
              "\n",
              "      const buffers = [];\n",
              "      let downloaded = 0;\n",
              "\n",
              "      const channel = await google.colab.kernel.comms.open(id);\n",
              "      // Send a message to notify the kernel that we're ready.\n",
              "      channel.send({})\n",
              "\n",
              "      for await (const message of channel.messages) {\n",
              "        // Send a message to notify the kernel that we're ready.\n",
              "        channel.send({})\n",
              "        if (message.buffers) {\n",
              "          for (const buffer of message.buffers) {\n",
              "            buffers.push(buffer);\n",
              "            downloaded += buffer.byteLength;\n",
              "            progress.value = downloaded;\n",
              "          }\n",
              "        }\n",
              "      }\n",
              "      const blob = new Blob(buffers, {type: 'application/binary'});\n",
              "      const a = document.createElement('a');\n",
              "      a.href = window.URL.createObjectURL(blob);\n",
              "      a.download = filename;\n",
              "      div.appendChild(a);\n",
              "      a.click();\n",
              "      div.remove();\n",
              "    }\n",
              "  "
            ]
          },
          "metadata": {}
        },
        {
          "output_type": "display_data",
          "data": {
            "text/plain": [
              "<IPython.core.display.Javascript object>"
            ],
            "application/javascript": [
              "download(\"download_c155b4de-fcc9-4026-b914-6a03c596ac4b\", \"Dataframe_procesado.csv\", 18690)"
            ]
          },
          "metadata": {}
        }
      ]
    }
  ]
}